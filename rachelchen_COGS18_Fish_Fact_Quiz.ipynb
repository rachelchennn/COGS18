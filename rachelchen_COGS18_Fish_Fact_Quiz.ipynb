{
 "cells": [
  {
   "cell_type": "markdown",
   "metadata": {},
   "source": [
    "# COGS 18 Final Project: Fish Fact Quiz #\n",
    "\n",
    "For the Final Project, I created a quiz of various fish-related facts. The quiz is made up of 10 multiple choice questions that will present a brief overview of the subject before providing answer choices. Since some questions are specific, hints will be provided when requested to guide the user towards the correct answer. I love teaching others about ocean-related topics, so I hope this quiz is fun and informative!\n",
    "\n",
    "Directions:\n",
    "1. Run the following 3 cells to initialize and start the quiz.\n",
    "2. Type the letter corresponding to the correct answer (punctuation and capitalization do not matter).\n",
    "3. If you need a hint, type 'hint'.\n",
    "4. Once a question is answered, the quiz will inform you if you got the right answer, followed by additional information about the subject of the question.\n",
    "5. At the end of the quiz, you will be given a score and a corresponding fish pun!"
   ]
  },
  {
   "cell_type": "code",
   "execution_count": null,
   "metadata": {},
   "outputs": [],
   "source": [
    "# Import required modules\n",
    "import sys\n",
    "sys.path.append(\"./modules\")\n",
    "import ffq_functions as func\n",
    "import ffq_req_inputs as inp"
   ]
  },
  {
   "cell_type": "code",
   "execution_count": null,
   "metadata": {},
   "outputs": [],
   "source": [
    "# Initialize list of questions and hints to be used in the quiz\n",
    "question_list = inp.question_list\n",
    "hint_list = inp.hint_list\n",
    "postq_list = inp.postq_list"
   ]
  },
  {
   "cell_type": "code",
   "execution_count": null,
   "metadata": {},
   "outputs": [],
   "source": [
    "# Begin quiz\n",
    "func.begin_quiz(question_list, hint_list, postq_list)"
   ]
  },
  {
   "cell_type": "code",
   "execution_count": null,
   "metadata": {},
   "outputs": [],
   "source": [
    "# Tests\n",
    "!pytest modules/ffq_tests.py"
   ]
  },
  {
   "cell_type": "markdown",
   "metadata": {},
   "source": [
    "#### Extra Credit ####\n",
    "\n",
    "Prior to taking COGS 18, I had some experience using R in data analysis and visualization, but no experience in Python. For this project, I knew I wanted to create something that was not related to data analysis since I already know how to do that, and chose a project that would be more fun and interactive. I had seen examples of simple quizzes created in Python, but I wanted my quiz to have more functionality and include hints and additional facts after answering the question. I also added little details like specific puns dependent on the score received and making sure capitalization and punctuation would not affect correct answers. I wanted to make the quiz more complicated so it would be more interesting than a simple quiz that doesn't give you much information or feedback directly after answering. I ran into issues when trying to import my modules since they were in a different folder than the notebook, so I needed to learn how to import modules from a different working directory. I feel that I learned a lot about code testing and debugging from working on this project."
   ]
  }
 ],
 "metadata": {
  "kernelspec": {
   "display_name": "Python 3",
   "language": "python",
   "name": "python3"
  },
  "language_info": {
   "codemirror_mode": {
    "name": "ipython",
    "version": 3
   },
   "file_extension": ".py",
   "mimetype": "text/x-python",
   "name": "python",
   "nbconvert_exporter": "python",
   "pygments_lexer": "ipython3",
   "version": "3.7.6"
  }
 },
 "nbformat": 4,
 "nbformat_minor": 4
}
